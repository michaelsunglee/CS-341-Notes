{
 "cells": [
  {
   "cell_type": "markdown",
   "metadata": {},
   "source": [
    "# Bentley Problem \n"
   ]
  },
  {
   "cell_type": "markdown",
   "metadata": {},
   "source": [
    "Given numbers $a_1, ... , a_n$, <br />\n",
    "\n",
    "find a contiguous subsequence (\"block\") <br />\n",
    "\n",
    "$a_i, a_{i+1}, ... , a_j$ with the largest sum. <br />\n",
    "\n",
    "## Algorithm 0 \n",
    "Idea - Brute Force <br />\n",
    "\n",
    "1.    ans = -$\\infty$                                 \n",
    "2.    for i=1 to n do                                 \n",
    "3.        for j=i to n do                             \n",
    "4.            sum=0                                   \n",
    "5.            for k=i to j do                         \n",
    "6.                sum = sum + $a_k$                   \n",
    "7.            ans = max{ans, sum)                     \n",
    "8.    retrun ans                                      \n",
    "\n",
    "Analysis - how fast is it? <br />\n",
    "\n",
    "Observe from inside -> out <br /> t\n",
    "\n",
    "lines 5-6: c(j-i+1) <= c$n$    where c is a machine/compiler dependent constant   <br />\n",
    "\n",
    "lines 4-7:          <= c$n$ + c'             <br />\n",
    "\n",
    "lines 3-7:          <= ($n$-i+1)(c$n$+c')    <br />\n",
    "                    <= c$n^2$ + c'$n$        <br />\n",
    "\n",
    "total               <= $n$(c$n^2$ + c'$n$) + c''   <br /><br />\n",
    "                    = O($n^3$)"
   ]
  },
  {
   "cell_type": "code",
   "execution_count": null,
   "metadata": {
    "collapsed": true
   },
   "outputs": [],
   "source": [
    "from IPython.display import display, Math, Latex\n",
    "Latex(r\"\"\"\\begin{eqnarray}\n",
    "\\nabla \\times \\vec{\\mathbf{B}} -\\, \\frac1c\\, \\frac{\\partial\\vec{\\mathbf{E}}}{\\partial t} & = \\frac{4\\pi}{c}\\vec{\\mathbf{j}} \\\\\n",
    "\\nabla \\cdot \\vec{\\mathbf{E}} & = 4 \\pi \\rho \\\\\n",
    "\\nabla \\times \\vec{\\mathbf{E}}\\, +\\, \\frac1c\\, \\frac{\\partial\\vec{\\mathbf{B}}}{\\partial t} & = \\vec{\\mathbf{0}} \\\\\n",
    "\\nabla \\cdot \\vec{\\mathbf{B}} & = 0 \n",
    "\\end{eqnarray}\"\"\")"
   ]
  },
  {
   "cell_type": "code",
   "execution_count": null,
   "metadata": {
    "collapsed": true
   },
   "outputs": [],
   "source": []
  },
  {
   "cell_type": "code",
   "execution_count": null,
   "metadata": {
    "collapsed": true
   },
   "outputs": [],
   "source": []
  }
 ],
 "metadata": {
  "kernelspec": {
   "display_name": "Python 2",
   "language": "python",
   "name": "python2"
  },
  "language_info": {
   "codemirror_mode": {
    "name": "ipython",
    "version": 2
   },
   "file_extension": ".py",
   "mimetype": "text/x-python",
   "name": "python",
   "nbconvert_exporter": "python",
   "pygments_lexer": "ipython2",
   "version": "2.7.10"
  }
 },
 "nbformat": 4,
 "nbformat_minor": 0
}
